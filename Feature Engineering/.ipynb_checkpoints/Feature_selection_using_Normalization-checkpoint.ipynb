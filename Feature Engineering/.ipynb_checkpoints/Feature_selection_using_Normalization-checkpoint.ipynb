{
 "cells": [
  {
   "cell_type": "markdown",
   "id": "9cca6598-5c1c-4dbd-980c-5494b7fe6bd4",
   "metadata": {},
   "source": [
    "# Normalization Types\n",
    "- Min Max Scaling (Most Common)\n",
    "- Min Normalization\n",
    "- Max Absolute\n",
    "- Robust Scalaing"
   ]
  },
  {
   "cell_type": "markdown",
   "id": "627d6829-0c24-4429-8383-0d16cdd1182f",
   "metadata": {},
   "source": [
    "# Min Max Scaling\n",
    "\n",
    "### Formula \n",
    "(Value - Minimum Vale) divide by (Maximum Value - Minimum Value)"
   ]
  },
  {
   "cell_type": "code",
   "execution_count": null,
   "id": "ceb0426e-a28a-4b71-ade8-0c0f18c7e2a0",
   "metadata": {},
   "outputs": [],
   "source": []
  },
  {
   "cell_type": "code",
   "execution_count": null,
   "id": "f6ea4f01-d870-4588-b182-4f391d9c672f",
   "metadata": {},
   "outputs": [],
   "source": []
  },
  {
   "cell_type": "code",
   "execution_count": null,
   "id": "57338d39-932b-4a75-a4af-5c63ef1d1625",
   "metadata": {},
   "outputs": [],
   "source": []
  },
  {
   "cell_type": "code",
   "execution_count": null,
   "id": "f136a44b-0273-4bc5-a8d1-d5848da0c22b",
   "metadata": {},
   "outputs": [],
   "source": []
  },
  {
   "cell_type": "code",
   "execution_count": null,
   "id": "5b6346c8-b2be-4a23-a3aa-df0aec6a913b",
   "metadata": {},
   "outputs": [],
   "source": []
  },
  {
   "cell_type": "code",
   "execution_count": null,
   "id": "11fb4ec2-282b-4caf-b66f-60483e07d207",
   "metadata": {},
   "outputs": [],
   "source": []
  },
  {
   "cell_type": "code",
   "execution_count": null,
   "id": "34525d72-957a-49fb-9bed-6ad8cfcf48a8",
   "metadata": {},
   "outputs": [],
   "source": []
  },
  {
   "cell_type": "code",
   "execution_count": null,
   "id": "f2385c2b-335f-4b7c-9037-7cf204c28529",
   "metadata": {},
   "outputs": [],
   "source": []
  },
  {
   "cell_type": "code",
   "execution_count": null,
   "id": "de2a99cb-0d7f-4e38-a073-3ad70d7766e1",
   "metadata": {},
   "outputs": [],
   "source": []
  }
 ],
 "metadata": {
  "kernelspec": {
   "display_name": "Python 3 (ipykernel)",
   "language": "python",
   "name": "python3"
  },
  "language_info": {
   "codemirror_mode": {
    "name": "ipython",
    "version": 3
   },
   "file_extension": ".py",
   "mimetype": "text/x-python",
   "name": "python",
   "nbconvert_exporter": "python",
   "pygments_lexer": "ipython3",
   "version": "3.13.5"
  }
 },
 "nbformat": 4,
 "nbformat_minor": 5
}
