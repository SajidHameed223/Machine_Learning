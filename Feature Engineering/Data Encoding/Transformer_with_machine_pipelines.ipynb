{
 "cells": [
  {
   "cell_type": "code",
   "execution_count": 1,
   "id": "ee49ee4a-7645-4bb0-b4fb-bf24a7df421a",
   "metadata": {},
   "outputs": [],
   "source": [
    "import pandas as pd \n",
    "import numpy as np "
   ]
  },
  {
   "cell_type": "code",
   "execution_count": 14,
   "id": "31fd806b-aa51-4a31-b32c-cb4fc41ba88a",
   "metadata": {},
   "outputs": [],
   "source": [
    "from sklearn.model_selection import train_test_split\n",
    "from sklearn.compose import ColumnTransformer\n",
    "from sklearn.impute import SimpleImputer\n",
    "from sklearn.tree import DecisionTreeClassifier\n",
    "from sklearn.pipeline import make_pipeline\n",
    "from sklearn.feature_selection import SelectKBest , chi2 \n",
    "from sklearn.preprocessing import MinMaxScaler , OneHotEncoder,LabelEncoder , OrdinalEncoder"
   ]
  },
  {
   "cell_type": "code",
   "execution_count": 4,
   "id": "788604e1-66ac-4b9d-be08-4f2c30fe8e17",
   "metadata": {},
   "outputs": [],
   "source": [
    "df = pd.read_csv('mushrooms.csv')"
   ]
  },
  {
   "cell_type": "code",
   "execution_count": 5,
   "id": "6b895efb-bf73-44bc-89bb-d14b297afceb",
   "metadata": {},
   "outputs": [],
   "source": [
    "df.drop(['veil-type', 'veil-color' , 'ring-number' , 'stalk-shape' , 'gill-attachment'], axis = 1 , inplace=True)"
   ]
  },
  {
   "cell_type": "code",
   "execution_count": 13,
   "id": "f55a2b90-a6c8-4297-a5b4-63461980014e",
   "metadata": {},
   "outputs": [
    {
     "name": "stdout",
     "output_type": "stream",
     "text": [
      "<class 'pandas.core.frame.DataFrame'>\n",
      "RangeIndex: 8124 entries, 0 to 8123\n",
      "Data columns (total 18 columns):\n",
      " #   Column                    Non-Null Count  Dtype \n",
      "---  ------                    --------------  ----- \n",
      " 0   class                     8124 non-null   object\n",
      " 1   cap-shape                 8124 non-null   object\n",
      " 2   cap-surface               8124 non-null   object\n",
      " 3   cap-color                 8124 non-null   object\n",
      " 4   bruises                   8124 non-null   object\n",
      " 5   odor                      8124 non-null   object\n",
      " 6   gill-spacing              8124 non-null   object\n",
      " 7   gill-size                 8124 non-null   object\n",
      " 8   gill-color                8124 non-null   object\n",
      " 9   stalk-root                8124 non-null   object\n",
      " 10  stalk-surface-above-ring  8124 non-null   object\n",
      " 11  stalk-surface-below-ring  8124 non-null   object\n",
      " 12  stalk-color-above-ring    8124 non-null   object\n",
      " 13  stalk-color-below-ring    8124 non-null   object\n",
      " 14  ring-type                 8124 non-null   object\n",
      " 15  spore-print-color         8124 non-null   object\n",
      " 16  population                8124 non-null   object\n",
      " 17  habitat                   8124 non-null   object\n",
      "dtypes: object(18)\n",
      "memory usage: 1.1+ MB\n"
     ]
    }
   ],
   "source": [
    "df.info()"
   ]
  },
  {
   "cell_type": "code",
   "execution_count": 12,
   "id": "3ea1c0d9-a98e-42fa-93fd-a867f83a4f4c",
   "metadata": {},
   "outputs": [],
   "source": [
    "X_train , X_test , y_train , y_test = train_test_split(df.iloc[:, 1:] , df.iloc[: , 0] , train_size = 0.7)"
   ]
  },
  {
   "cell_type": "code",
   "execution_count": 16,
   "id": "425ce351-f801-44b4-b6cd-5b2ea313a4b9",
   "metadata": {},
   "outputs": [],
   "source": [
    "ordinal_col = ['gill-size']\n",
    "nominal_col = X_train.drop(columns = ordinal_col , axis = 1).columns"
   ]
  },
  {
   "cell_type": "code",
   "execution_count": 23,
   "id": "a0546ef4-4930-4826-b3e8-2dd2e12e6f51",
   "metadata": {},
   "outputs": [],
   "source": [
    "trf1 = ColumnTransformer(\n",
    "    transformers = [\n",
    "    ('le' , LabelEncoder() , [0]),\n",
    "    ('oe' , OrdinalEncoder(categories=[['b' , 'n']]) , ordinal_col),\n",
    "    ('ohe' , OneHotEncoder(drop='first' ,sparse_output = False) ,nominal_col)\n",
    "    ],remainder ='pass-through'\n",
    ")"
   ]
  },
  {
   "cell_type": "code",
   "execution_count": null,
   "id": "51189399-5f0a-4f37-9d98-9ad0c6729b62",
   "metadata": {},
   "outputs": [],
   "source": []
  }
 ],
 "metadata": {
  "kernelspec": {
   "display_name": "Python 3 (ipykernel)",
   "language": "python",
   "name": "python3"
  },
  "language_info": {
   "codemirror_mode": {
    "name": "ipython",
    "version": 3
   },
   "file_extension": ".py",
   "mimetype": "text/x-python",
   "name": "python",
   "nbconvert_exporter": "python",
   "pygments_lexer": "ipython3",
   "version": "3.13.5"
  }
 },
 "nbformat": 4,
 "nbformat_minor": 5
}
