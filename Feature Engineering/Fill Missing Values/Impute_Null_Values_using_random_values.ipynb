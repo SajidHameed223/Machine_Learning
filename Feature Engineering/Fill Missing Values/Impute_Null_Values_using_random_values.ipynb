{
 "cells": [
  {
   "cell_type": "code",
   "execution_count": 1,
   "id": "02e56cd0-a41f-415e-9bc4-146cf837b995",
   "metadata": {},
   "outputs": [],
   "source": [
    "import pandas as pd  \n",
    "import numpy as np "
   ]
  },
  {
   "cell_type": "code",
   "execution_count": 4,
   "id": "76a1ad49-f60e-40a0-9b78-371b251717ec",
   "metadata": {},
   "outputs": [],
   "source": [
    "df = pd.read_csv('housing.csv', usecols = ['total_bedrooms' ,'population' , 'total_rooms'])"
   ]
  },
  {
   "cell_type": "code",
   "execution_count": 10,
   "id": "4bd2fddb-dc29-4b85-a6ac-6c1be9d27ec5",
   "metadata": {},
   "outputs": [],
   "source": [
    "df1 = df.copy() "
   ]
  },
  {
   "cell_type": "code",
   "execution_count": 7,
   "id": "c5bf48f9-bc11-4ab6-9976-046140e4dc97",
   "metadata": {},
   "outputs": [
    {
     "data": {
      "text/plain": [
       "total_rooms       0.000000\n",
       "total_bedrooms    0.010029\n",
       "population        0.000000\n",
       "dtype: float64"
      ]
     },
     "execution_count": 7,
     "metadata": {},
     "output_type": "execute_result"
    }
   ],
   "source": [
    "df.isnull().mean()"
   ]
  },
  {
   "cell_type": "code",
   "execution_count": 6,
   "id": "158e8948-be31-4f97-8fbd-a52a61b5cb5a",
   "metadata": {},
   "outputs": [
    {
     "data": {
      "text/html": [
       "<div>\n",
       "<style scoped>\n",
       "    .dataframe tbody tr th:only-of-type {\n",
       "        vertical-align: middle;\n",
       "    }\n",
       "\n",
       "    .dataframe tbody tr th {\n",
       "        vertical-align: top;\n",
       "    }\n",
       "\n",
       "    .dataframe thead th {\n",
       "        text-align: right;\n",
       "    }\n",
       "</style>\n",
       "<table border=\"1\" class=\"dataframe\">\n",
       "  <thead>\n",
       "    <tr style=\"text-align: right;\">\n",
       "      <th></th>\n",
       "      <th>total_rooms</th>\n",
       "      <th>total_bedrooms</th>\n",
       "      <th>population</th>\n",
       "    </tr>\n",
       "  </thead>\n",
       "  <tbody>\n",
       "    <tr>\n",
       "      <th>5522</th>\n",
       "      <td>1436.0</td>\n",
       "      <td>374.0</td>\n",
       "      <td>662.0</td>\n",
       "    </tr>\n",
       "    <tr>\n",
       "      <th>10035</th>\n",
       "      <td>2200.0</td>\n",
       "      <td>439.0</td>\n",
       "      <td>1045.0</td>\n",
       "    </tr>\n",
       "    <tr>\n",
       "      <th>7552</th>\n",
       "      <td>1260.0</td>\n",
       "      <td>299.0</td>\n",
       "      <td>1535.0</td>\n",
       "    </tr>\n",
       "    <tr>\n",
       "      <th>8746</th>\n",
       "      <td>4177.0</td>\n",
       "      <td>832.0</td>\n",
       "      <td>2123.0</td>\n",
       "    </tr>\n",
       "    <tr>\n",
       "      <th>20379</th>\n",
       "      <td>3380.0</td>\n",
       "      <td>731.0</td>\n",
       "      <td>1227.0</td>\n",
       "    </tr>\n",
       "  </tbody>\n",
       "</table>\n",
       "</div>"
      ],
      "text/plain": [
       "       total_rooms  total_bedrooms  population\n",
       "5522        1436.0           374.0       662.0\n",
       "10035       2200.0           439.0      1045.0\n",
       "7552        1260.0           299.0      1535.0\n",
       "8746        4177.0           832.0      2123.0\n",
       "20379       3380.0           731.0      1227.0"
      ]
     },
     "execution_count": 6,
     "metadata": {},
     "output_type": "execute_result"
    }
   ],
   "source": [
    "df.sample(5)"
   ]
  },
  {
   "cell_type": "markdown",
   "id": "f8bd21e0-463e-4cbd-a72d-10f1b6f9a5e3",
   "metadata": {},
   "source": [
    "# Using Random Values By Pandas This Function is not available in Sklearn "
   ]
  },
  {
   "cell_type": "code",
   "execution_count": null,
   "id": "940c2bea-75d6-49b0-8d63-6c51b2a57faf",
   "metadata": {},
   "outputs": [],
   "source": [
    "X_train['Age_imputed'][X_train['Age_imputed'].isnull()] = X_train['Age'].dropna().sample(X_train['Age'].isnull().sum()).values\n",
    "X_test['Age_imputed'][X_test['Age_imputed'].isnull()] = X_train['Age'].dropna().sample(X_test['Age'].isnull().sum()).values"
   ]
  },
  {
   "cell_type": "code",
   "execution_count": 8,
   "id": "dc9ee792-f0e9-481b-b942-5ea7b81adc44",
   "metadata": {},
   "outputs": [
    {
     "name": "stderr",
     "output_type": "stream",
     "text": [
      "C:\\Users\\BEST LAPTOP\\AppData\\Local\\Temp\\ipykernel_12820\\72436173.py:1: FutureWarning: ChainedAssignmentError: behaviour will change in pandas 3.0!\n",
      "You are setting values through chained assignment. Currently this works in certain cases, but when using Copy-on-Write (which will become the default behaviour in pandas 3.0) this will never work to update the original DataFrame or Series, because the intermediate object on which we are setting values will behave as a copy.\n",
      "A typical example is when you are setting values in a column of a DataFrame, like:\n",
      "\n",
      "df[\"col\"][row_indexer] = value\n",
      "\n",
      "Use `df.loc[row_indexer, \"col\"] = values` instead, to perform the assignment in a single step and ensure this keeps updating the original `df`.\n",
      "\n",
      "See the caveats in the documentation: https://pandas.pydata.org/pandas-docs/stable/user_guide/indexing.html#returning-a-view-versus-a-copy\n",
      "\n",
      "  df['total_bedrooms'][df['total_bedrooms'].isnull()] = df['total_bedrooms'].dropna().sample(df['total_bedrooms'].isnull().sum()).values\n"
     ]
    }
   ],
   "source": [
    "df['total_bedrooms'][df['total_bedrooms'].isnull()] = df['total_bedrooms'].dropna().sample(df['total_bedrooms'].isnull().sum()).values"
   ]
  },
  {
   "cell_type": "code",
   "execution_count": 9,
   "id": "d52418c4-b9f1-421d-bb5a-bf534509aae6",
   "metadata": {},
   "outputs": [
    {
     "data": {
      "text/plain": [
       "total_rooms       0\n",
       "total_bedrooms    0\n",
       "population        0\n",
       "dtype: int64"
      ]
     },
     "execution_count": 9,
     "metadata": {},
     "output_type": "execute_result"
    }
   ],
   "source": [
    "df.isnull().sum()"
   ]
  }
 ],
 "metadata": {
  "kernelspec": {
   "display_name": "Python 3 (ipykernel)",
   "language": "python",
   "name": "python3"
  },
  "language_info": {
   "codemirror_mode": {
    "name": "ipython",
    "version": 3
   },
   "file_extension": ".py",
   "mimetype": "text/x-python",
   "name": "python",
   "nbconvert_exporter": "python",
   "pygments_lexer": "ipython3",
   "version": "3.13.5"
  }
 },
 "nbformat": 4,
 "nbformat_minor": 5
}
