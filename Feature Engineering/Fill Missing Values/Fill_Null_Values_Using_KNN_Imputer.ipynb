{
 "cells": [
  {
   "cell_type": "code",
   "execution_count": 1,
   "id": "883c68b7-35e5-4e10-a4e2-96cf2f6b7b5c",
   "metadata": {},
   "outputs": [],
   "source": [
    "# import libraries \n",
    "import pandas as pd \n",
    "import numpy as np "
   ]
  },
  {
   "cell_type": "code",
   "execution_count": 9,
   "id": "69bcd4b2-2db3-4ced-a7a3-cb4a7e1224c1",
   "metadata": {},
   "outputs": [],
   "source": [
    "# load or import dataset \n",
    "df = pd.read_csv('train.csv' , usecols = ['Age' ,'Survived','Fare'])"
   ]
  },
  {
   "cell_type": "code",
   "execution_count": 3,
   "id": "b1a9e2b6-b864-4163-850f-a51aeed51248",
   "metadata": {},
   "outputs": [
    {
     "data": {
      "text/plain": [
       "Survived     0.000000\n",
       "Age         19.865320\n",
       "Fare         0.000000\n",
       "Embarked     0.224467\n",
       "dtype: float64"
      ]
     },
     "execution_count": 3,
     "metadata": {},
     "output_type": "execute_result"
    }
   ],
   "source": [
    "# Find the Percentage of Null Values\n",
    "df.isnull().mean() * 100"
   ]
  },
  {
   "cell_type": "code",
   "execution_count": 4,
   "id": "ae3a5327-1db7-4abb-83d6-167944b1e8bd",
   "metadata": {},
   "outputs": [
    {
     "data": {
      "text/html": [
       "<div>\n",
       "<style scoped>\n",
       "    .dataframe tbody tr th:only-of-type {\n",
       "        vertical-align: middle;\n",
       "    }\n",
       "\n",
       "    .dataframe tbody tr th {\n",
       "        vertical-align: top;\n",
       "    }\n",
       "\n",
       "    .dataframe thead th {\n",
       "        text-align: right;\n",
       "    }\n",
       "</style>\n",
       "<table border=\"1\" class=\"dataframe\">\n",
       "  <thead>\n",
       "    <tr style=\"text-align: right;\">\n",
       "      <th></th>\n",
       "      <th>Survived</th>\n",
       "      <th>Age</th>\n",
       "      <th>Fare</th>\n",
       "      <th>Embarked</th>\n",
       "    </tr>\n",
       "  </thead>\n",
       "  <tbody>\n",
       "    <tr>\n",
       "      <th>143</th>\n",
       "      <td>0</td>\n",
       "      <td>19.0</td>\n",
       "      <td>6.7500</td>\n",
       "      <td>Q</td>\n",
       "    </tr>\n",
       "    <tr>\n",
       "      <th>626</th>\n",
       "      <td>0</td>\n",
       "      <td>57.0</td>\n",
       "      <td>12.3500</td>\n",
       "      <td>Q</td>\n",
       "    </tr>\n",
       "    <tr>\n",
       "      <th>508</th>\n",
       "      <td>0</td>\n",
       "      <td>28.0</td>\n",
       "      <td>22.5250</td>\n",
       "      <td>S</td>\n",
       "    </tr>\n",
       "    <tr>\n",
       "      <th>842</th>\n",
       "      <td>1</td>\n",
       "      <td>30.0</td>\n",
       "      <td>31.0000</td>\n",
       "      <td>C</td>\n",
       "    </tr>\n",
       "    <tr>\n",
       "      <th>297</th>\n",
       "      <td>0</td>\n",
       "      <td>2.0</td>\n",
       "      <td>151.5500</td>\n",
       "      <td>S</td>\n",
       "    </tr>\n",
       "    <tr>\n",
       "      <th>833</th>\n",
       "      <td>0</td>\n",
       "      <td>23.0</td>\n",
       "      <td>7.8542</td>\n",
       "      <td>S</td>\n",
       "    </tr>\n",
       "  </tbody>\n",
       "</table>\n",
       "</div>"
      ],
      "text/plain": [
       "     Survived   Age      Fare Embarked\n",
       "143         0  19.0    6.7500        Q\n",
       "626         0  57.0   12.3500        Q\n",
       "508         0  28.0   22.5250        S\n",
       "842         1  30.0   31.0000        C\n",
       "297         0   2.0  151.5500        S\n",
       "833         0  23.0    7.8542        S"
      ]
     },
     "execution_count": 4,
     "metadata": {},
     "output_type": "execute_result"
    }
   ],
   "source": [
    "df.sample(6)"
   ]
  },
  {
   "cell_type": "code",
   "execution_count": 14,
   "id": "68401111-a770-47f1-b77f-c06536290d1c",
   "metadata": {},
   "outputs": [],
   "source": [
    "# Import SKlearn Functions\n",
    "from sklearn.model_selection import train_test_split\n",
    "from sklearn.impute import SimpleImputer , KNNImputer\n",
    "from sklearn.linear_model import LogisticRegression \n",
    "from sklearn.metrics import accuracy_score"
   ]
  },
  {
   "cell_type": "code",
   "execution_count": 10,
   "id": "27f9c01c-2e6b-46f2-bced-2c89a00ce582",
   "metadata": {},
   "outputs": [],
   "source": [
    "# Split the dataset in to training and testing datasets\n",
    "X_train , X_test , y_train , y_test = train_test_split(df.drop(columns= ['Survived'] , axis = 1) , df['Survived'] , test_size = 0.2 ) "
   ]
  },
  {
   "cell_type": "code",
   "execution_count": null,
   "id": "e03a606b-8db5-4cde-8905-4c90b4640a7e",
   "metadata": {},
   "outputs": [],
   "source": [
    "# Error Because Logistic Regression Does not support Null Values\n",
    "\n",
    "lr = LogisticRegression()\n",
    "\n",
    "lr.fit(X_train,y_train)\n",
    "\n",
    "y_pred = lr.predict(X_test)\n",
    "\n",
    "accuracy_score(y_test,y_pred)"
   ]
  },
  {
   "cell_type": "code",
   "execution_count": 11,
   "id": "638647db-e868-4ceb-92fa-90266fed406d",
   "metadata": {},
   "outputs": [],
   "source": [
    "knn_imputer = KNNImputer(n_neighbors = 3 , weights = 'distance')"
   ]
  },
  {
   "cell_type": "code",
   "execution_count": 12,
   "id": "0b688f08-1c7c-4b12-ade7-ce70afae73b6",
   "metadata": {},
   "outputs": [],
   "source": [
    "X_train_trf = knn_imputer.fit_transform(X_train)\n",
    "X_test_trf = knn_imputer.transform(X_test)"
   ]
  },
  {
   "cell_type": "code",
   "execution_count": 16,
   "id": "6161594e-69f3-4be7-819b-d1fbeb291a7b",
   "metadata": {},
   "outputs": [
    {
     "data": {
      "text/plain": [
       "0.6536312849162011"
      ]
     },
     "execution_count": 16,
     "metadata": {},
     "output_type": "execute_result"
    }
   ],
   "source": [
    "# Accuracy After Imputing values wuith the help of KNN Imputer \n",
    "\n",
    "lr = LogisticRegression()\n",
    "\n",
    "lr.fit(X_train_trf,y_train)\n",
    "\n",
    "y_pred = lr.predict(X_test_trf)\n",
    "\n",
    "accuracy_score(y_test,y_pred)"
   ]
  },
  {
   "cell_type": "code",
   "execution_count": 19,
   "id": "414130e7-8997-45a9-b58e-0f39a2afd5ef",
   "metadata": {},
   "outputs": [],
   "source": [
    "# Let's try simple imputer --> Mean , Mode , Median \n",
    "\n",
    "si = SimpleImputer()\n",
    "# By Default Value is mean \n",
    "X_train_trf = si.fit_transform(X_train)\n",
    "X_test_trf = si.transform(X_test)"
   ]
  },
  {
   "cell_type": "code",
   "execution_count": 20,
   "id": "e2d9052e-ebe1-464f-867a-c6654df4ff45",
   "metadata": {},
   "outputs": [
    {
     "data": {
      "text/plain": [
       "0.6480446927374302"
      ]
     },
     "execution_count": 20,
     "metadata": {},
     "output_type": "execute_result"
    }
   ],
   "source": [
    "# Accuracy After Imputing values wuith the help of Simple Imputer \n",
    "\n",
    "lr = LogisticRegression()\n",
    "\n",
    "lr.fit(X_train_trf,y_train)\n",
    "\n",
    "y_pred = lr.predict(X_test_trf)\n",
    "\n",
    "accuracy_score(y_test,y_pred)"
   ]
  }
 ],
 "metadata": {
  "kernelspec": {
   "display_name": "Python 3 (ipykernel)",
   "language": "python",
   "name": "python3"
  },
  "language_info": {
   "codemirror_mode": {
    "name": "ipython",
    "version": 3
   },
   "file_extension": ".py",
   "mimetype": "text/x-python",
   "name": "python",
   "nbconvert_exporter": "python",
   "pygments_lexer": "ipython3",
   "version": "3.13.5"
  }
 },
 "nbformat": 4,
 "nbformat_minor": 5
}
