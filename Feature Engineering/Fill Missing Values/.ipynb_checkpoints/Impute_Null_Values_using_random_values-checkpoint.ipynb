{
 "cells": [
  {
   "cell_type": "code",
   "execution_count": 1,
   "id": "02e56cd0-a41f-415e-9bc4-146cf837b995",
   "metadata": {},
   "outputs": [],
   "source": [
    "import pandas as pd  \n",
    "import numpy as np "
   ]
  },
  {
   "cell_type": "code",
   "execution_count": 4,
   "id": "76a1ad49-f60e-40a0-9b78-371b251717ec",
   "metadata": {},
   "outputs": [],
   "source": [
    "df = pd.read_csv('housing.csv', usecols = ['total_bedrooms' ,'population' , 'total_rooms'])"
   ]
  },
  {
   "cell_type": "code",
   "execution_count": 5,
   "id": "c5bf48f9-bc11-4ab6-9976-046140e4dc97",
   "metadata": {},
   "outputs": [
    {
     "data": {
      "text/plain": [
       "total_rooms         0\n",
       "total_bedrooms    207\n",
       "population          0\n",
       "dtype: int64"
      ]
     },
     "execution_count": 5,
     "metadata": {},
     "output_type": "execute_result"
    }
   ],
   "source": [
    "df.isnull().sum()"
   ]
  },
  {
   "cell_type": "code",
   "execution_count": 6,
   "id": "158e8948-be31-4f97-8fbd-a52a61b5cb5a",
   "metadata": {},
   "outputs": [
    {
     "data": {
      "text/html": [
       "<div>\n",
       "<style scoped>\n",
       "    .dataframe tbody tr th:only-of-type {\n",
       "        vertical-align: middle;\n",
       "    }\n",
       "\n",
       "    .dataframe tbody tr th {\n",
       "        vertical-align: top;\n",
       "    }\n",
       "\n",
       "    .dataframe thead th {\n",
       "        text-align: right;\n",
       "    }\n",
       "</style>\n",
       "<table border=\"1\" class=\"dataframe\">\n",
       "  <thead>\n",
       "    <tr style=\"text-align: right;\">\n",
       "      <th></th>\n",
       "      <th>total_rooms</th>\n",
       "      <th>total_bedrooms</th>\n",
       "      <th>population</th>\n",
       "    </tr>\n",
       "  </thead>\n",
       "  <tbody>\n",
       "    <tr>\n",
       "      <th>5522</th>\n",
       "      <td>1436.0</td>\n",
       "      <td>374.0</td>\n",
       "      <td>662.0</td>\n",
       "    </tr>\n",
       "    <tr>\n",
       "      <th>10035</th>\n",
       "      <td>2200.0</td>\n",
       "      <td>439.0</td>\n",
       "      <td>1045.0</td>\n",
       "    </tr>\n",
       "    <tr>\n",
       "      <th>7552</th>\n",
       "      <td>1260.0</td>\n",
       "      <td>299.0</td>\n",
       "      <td>1535.0</td>\n",
       "    </tr>\n",
       "    <tr>\n",
       "      <th>8746</th>\n",
       "      <td>4177.0</td>\n",
       "      <td>832.0</td>\n",
       "      <td>2123.0</td>\n",
       "    </tr>\n",
       "    <tr>\n",
       "      <th>20379</th>\n",
       "      <td>3380.0</td>\n",
       "      <td>731.0</td>\n",
       "      <td>1227.0</td>\n",
       "    </tr>\n",
       "  </tbody>\n",
       "</table>\n",
       "</div>"
      ],
      "text/plain": [
       "       total_rooms  total_bedrooms  population\n",
       "5522        1436.0           374.0       662.0\n",
       "10035       2200.0           439.0      1045.0\n",
       "7552        1260.0           299.0      1535.0\n",
       "8746        4177.0           832.0      2123.0\n",
       "20379       3380.0           731.0      1227.0"
      ]
     },
     "execution_count": 6,
     "metadata": {},
     "output_type": "execute_result"
    }
   ],
   "source": [
    "df.sample(5)"
   ]
  }
 ],
 "metadata": {
  "kernelspec": {
   "display_name": "Python 3 (ipykernel)",
   "language": "python",
   "name": "python3"
  },
  "language_info": {
   "codemirror_mode": {
    "name": "ipython",
    "version": 3
   },
   "file_extension": ".py",
   "mimetype": "text/x-python",
   "name": "python",
   "nbconvert_exporter": "python",
   "pygments_lexer": "ipython3",
   "version": "3.13.5"
  }
 },
 "nbformat": 4,
 "nbformat_minor": 5
}
