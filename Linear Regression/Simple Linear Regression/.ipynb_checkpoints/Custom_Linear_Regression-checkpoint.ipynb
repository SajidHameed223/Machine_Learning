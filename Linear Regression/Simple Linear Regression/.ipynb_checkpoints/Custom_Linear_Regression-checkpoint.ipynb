{
 "cells": [
  {
   "cell_type": "code",
   "execution_count": 1,
   "id": "878ac4ce-4097-4670-a542-d9590ee8bbae",
   "metadata": {},
   "outputs": [],
   "source": [
    "class CustomLinearRegression:\n",
    "    \n",
    "    def __init__(self ):\n",
    "        self.n = None\n",
    "        self.d = None\n",
    "    def fit(self , X_train , y_train):\n",
    "        num = 0 \n",
    "        den = 0 \n",
    "        for i in range(X_train.shape[0]):\n",
    "            num = (X_train[i] - X_train.mean()) * (y_train[i] - y_train.mean())\n",
    "            den = (X_train[i] - X_train.mean()) * (X_train[i] - X_train.mean())\n",
    "            self.n = num / den \n",
    "            self.d = y_train.mean() - (self.m * X_train.mean())\n",
    "    def predict(self,X_test):        \n",
    "        print(X_test)        \n",
    "        return self.m * X_test + self.b         "
   ]
  },
  {
   "cell_type": "code",
   "execution_count": 2,
   "id": "d1797fa0-09b6-4736-8388-00a033e84850",
   "metadata": {},
   "outputs": [],
   "source": [
    "import pandas as pd \n",
    "import numpy as np "
   ]
  },
  {
   "cell_type": "code",
   "execution_count": 3,
   "id": "2313e261-408b-433d-bd42-c7185042c6f1",
   "metadata": {},
   "outputs": [],
   "source": [
    "df = pd.read_csv('placement.csv')"
   ]
  },
  {
   "cell_type": "code",
   "execution_count": 4,
   "id": "6d0acce5-12ed-4a11-af20-5561a77d89bb",
   "metadata": {},
   "outputs": [],
   "source": [
    "X = df.iloc[:,0].values\n",
    "y = df.iloc[:,1].values"
   ]
  },
  {
   "cell_type": "code",
   "execution_count": 5,
   "id": "1d1f9008-d770-48de-9799-9005dd43e0a0",
   "metadata": {},
   "outputs": [],
   "source": [
    "from sklearn.model_selection import train_test_split\n",
    "X_train,X_test,y_train,y_test = train_test_split(X,y,test_size=0.2,random_state=2)"
   ]
  },
  {
   "cell_type": "code",
   "execution_count": 6,
   "id": "0b08c4ea-f009-4442-9ba2-acfdeba94555",
   "metadata": {},
   "outputs": [],
   "source": [
    "lr = CustomLinearRegression()"
   ]
  },
  {
   "cell_type": "code",
   "execution_count": null,
   "id": "270c53f1-3ba5-43d0-b9a6-12d08f93e541",
   "metadata": {},
   "outputs": [],
   "source": [
    "lr.fit(X_train , y_train)"
   ]
  },
  {
   "cell_type": "code",
   "execution_count": null,
   "id": "e91b3b28-af6f-4902-840a-2c86e8e4fc86",
   "metadata": {},
   "outputs": [],
   "source": [
    "print(lr.predict(X_test[0]))"
   ]
  }
 ],
 "metadata": {
  "kernelspec": {
   "display_name": "Python 3 (ipykernel)",
   "language": "python",
   "name": "python3"
  },
  "language_info": {
   "codemirror_mode": {
    "name": "ipython",
    "version": 3
   },
   "file_extension": ".py",
   "mimetype": "text/x-python",
   "name": "python",
   "nbconvert_exporter": "python",
   "pygments_lexer": "ipython3",
   "version": "3.13.5"
  }
 },
 "nbformat": 4,
 "nbformat_minor": 5
}
