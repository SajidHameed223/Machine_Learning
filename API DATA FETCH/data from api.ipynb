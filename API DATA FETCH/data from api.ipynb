{
 "cells": [
  {
   "cell_type": "code",
   "execution_count": 1,
   "id": "d3daed15-89f1-47b7-8bdd-8918040c7846",
   "metadata": {},
   "outputs": [],
   "source": [
    "import requests\n",
    "\n",
    "url = \"https://movie-database-api1.p.rapidapi.com/list_movies.json\"\n",
    "\n",
    "querystring = {\n",
    "    \"limit\":\"20\",\n",
    "    \"page\":\"1\",\n",
    "    \"quality\":\"all\",\n",
    "    \"genre\":\"all\",\n",
    "    \"minimum_rating\":\"0\",\n",
    "    \"query_term\":\"0\",\n",
    "    \"sort_by\":\"date_added\",\n",
    "    \"order_by\":\"desc\",\n",
    "    \"with_rt_ratings\":\"false\"}\n",
    "\n",
    "headers = {\n",
    "\t\"x-rapidapi-key\": \"api here\",\n",
    "\t\"x-rapidapi-host\": \"movie-database-api1.p.rapidapi.com\"\n",
    "}\n",
    "\n",
    "response = requests.get(url, headers=headers, params=querystring)\n",
    "\n",
    "data =response.json()"
   ]
  },
  {
   "cell_type": "code",
   "execution_count": 13,
   "id": "e08db699-eb63-42f9-8fd5-6af93b8254ab",
   "metadata": {},
   "outputs": [
    {
     "name": "stdout",
     "output_type": "stream",
     "text": [
      "{'message': 'You have exceeded the MONTHLY quota for Requests on your current plan, BASIC. Upgrade your plan at https://rapidapi.com/jpbermoy/api/movie-database-api1'}\n"
     ]
    }
   ],
   "source": [
    "all_df = []\n",
    "for page in range(1 , 350):\n",
    "    querystring['page'] = page\n",
    "    page_data = requests.get(url, headers=headers, params=querystring).json()\n",
    "    print(page_data)\n",
    "    if 'movies' == page_data['data']:\n",
    "        movies = page_data['data']['movies']\n",
    "        temp_df = pd.DataFrame(movies)[['id', 'title','year','genre']]\n",
    "        all_df.append(temp_df)\n",
    "df = pd.concate(all_df , ignore_index = True)       \n",
    "df        \n",
    "\n",
    "    "
   ]
  }
 ],
 "metadata": {
  "kernelspec": {
   "display_name": "Python 3 (ipykernel)",
   "language": "python",
   "name": "python3"
  },
  "language_info": {
   "codemirror_mode": {
    "name": "ipython",
    "version": 3
   },
   "file_extension": ".py",
   "mimetype": "text/x-python",
   "name": "python",
   "nbconvert_exporter": "python",
   "pygments_lexer": "ipython3",
   "version": "3.13.5"
  }
 },
 "nbformat": 4,
 "nbformat_minor": 5
}
