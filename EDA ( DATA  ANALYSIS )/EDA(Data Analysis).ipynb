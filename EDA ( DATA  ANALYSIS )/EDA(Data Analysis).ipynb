{
 "cells": [
  {
   "cell_type": "code",
   "execution_count": null,
   "id": "c655ef9d-f5db-4721-90d6-1f2c9be07bb8",
   "metadata": {},
   "outputs": [],
   "source": [
    "import pandas as pd"
   ]
  },
  {
   "cell_type": "code",
   "execution_count": null,
   "id": "9082ad4b-0355-4e48-9362-b7351bbe7fa7",
   "metadata": {},
   "outputs": [],
   "source": [
    "df = pd.read_csv('train.csv')"
   ]
  },
  {
   "cell_type": "markdown",
   "id": "023d0007-c108-43c3-8b68-a407737f48a8",
   "metadata": {},
   "source": [
    "# How Big is Data ?"
   ]
  },
  {
   "cell_type": "code",
   "execution_count": null,
   "id": "618ecb96-544d-48a4-ace4-a6a2e51b84a9",
   "metadata": {},
   "outputs": [],
   "source": [
    "df.shape"
   ]
  },
  {
   "cell_type": "markdown",
   "id": "623ea883-680a-407c-8087-8ecf16a3a93b",
   "metadata": {},
   "source": [
    "# How does Data Look Like?"
   ]
  },
  {
   "cell_type": "code",
   "execution_count": null,
   "id": "046341df-3d45-4332-a75f-e39bba7061d2",
   "metadata": {},
   "outputs": [],
   "source": [
    "df.sample(4)"
   ]
  },
  {
   "cell_type": "markdown",
   "id": "a309c5b0-ef6c-42c6-8124-d1962c240510",
   "metadata": {},
   "source": [
    "# What is types of Data Cols ?"
   ]
  },
  {
   "cell_type": "code",
   "execution_count": null,
   "id": "18f16b85-6afa-45b7-9c29-e16305fbc06e",
   "metadata": {},
   "outputs": [],
   "source": [
    "df.info()"
   ]
  },
  {
   "cell_type": "markdown",
   "id": "2580c84b-e281-46e2-9e7b-8f6e38d1e7ba",
   "metadata": {},
   "source": [
    "# Are there any missing Values ?"
   ]
  },
  {
   "cell_type": "code",
   "execution_count": null,
   "id": "8979eca2-4dcd-4480-9678-9d38580f9e78",
   "metadata": {},
   "outputs": [],
   "source": [
    "df.isnull().sum()"
   ]
  },
  {
   "cell_type": "markdown",
   "id": "64ce6012-1c63-4c54-9523-e78abf3ae668",
   "metadata": {},
   "source": [
    "# How does data mathematically look ?"
   ]
  },
  {
   "cell_type": "code",
   "execution_count": null,
   "id": "dac764e6-8b51-4c5f-bdfa-9e01c201e12d",
   "metadata": {},
   "outputs": [],
   "source": [
    "df.describe()"
   ]
  },
  {
   "cell_type": "markdown",
   "id": "3133b470-9b22-4c3c-b04a-259f6882633b",
   "metadata": {},
   "source": [
    "# Are there is any duplication in data?"
   ]
  },
  {
   "cell_type": "code",
   "execution_count": null,
   "id": "35736664-8b0d-4307-970d-59af404d7029",
   "metadata": {},
   "outputs": [],
   "source": [
    "df.duplicated().sum()"
   ]
  },
  {
   "cell_type": "markdown",
   "id": "ed729703-a563-4fe1-8a9e-58c683ddde1a",
   "metadata": {},
   "source": [
    "# How is the correlation between the cols ?"
   ]
  },
  {
   "cell_type": "code",
   "execution_count": null,
   "id": "cfd77bc3-0a04-430e-bde8-3008d28833c8",
   "metadata": {},
   "outputs": [],
   "source": [
    "X = df.select_dtypes(include = ['int64' , 'float64'])\n",
    "X.coor()\n",
    "df.corr(numeric_only = True)"
   ]
  },
  {
   "cell_type": "markdown",
   "id": "7eacdbb5-046a-4f3f-b3e1-446caa084887",
   "metadata": {},
   "source": [
    "# Types of Data \n",
    "-i) Numeric Data \n",
    "-ii) Categorical Data "
   ]
  },
  {
   "cell_type": "markdown",
   "id": "40d95f97-9f91-4073-8bfc-3e4730bbbdf9",
   "metadata": {},
   "source": [
    "# Univariate Analysis \n",
    "its a analysis of 1 col\n",
    "-i) Is data numerical or categorical ?"
   ]
  },
  {
   "cell_type": "code",
   "execution_count": null,
   "id": "bf9bf66e-cb8e-41a6-bed0-6f41bd164b33",
   "metadata": {},
   "outputs": [],
   "source": [
    "import seaborn as sns \n",
    "import matplotlib.pyplot as plt"
   ]
  },
  {
   "cell_type": "markdown",
   "id": "3f4a4290-89b5-4dea-8bb8-8b881bdecb8f",
   "metadata": {},
   "source": [
    "# Categorical Data Analysis \n",
    "-I) \n",
    "# Bar Chart"
   ]
  },
  {
   "cell_type": "code",
   "execution_count": null,
   "id": "ee342a0a-8265-4869-a3e2-42c7bffaeda2",
   "metadata": {},
   "outputs": [],
   "source": [
    "# we can also count values through pandas \n",
    "# df['Survived'].value_counts().plot(kind='bar')\n",
    "\n",
    "# we can it with seaborn also\n",
    "sns.countplot(x='Survived',data=df)"
   ]
  },
  {
   "cell_type": "code",
   "execution_count": null,
   "id": "83930323-b4da-4cdb-9a78-15195f80f402",
   "metadata": {},
   "outputs": [],
   "source": [
    "# df['Pclass'].value_counts().plot(kind='bar')\n",
    "sns.countplot(data = df , x = 'Pclass')"
   ]
  },
  {
   "cell_type": "code",
   "execution_count": null,
   "id": "074fdc3b-7903-4eb9-b909-4bd87823c678",
   "metadata": {},
   "outputs": [],
   "source": [
    "df['Sex'].value_counts().plot(kind='pie', autopct='%.2f')"
   ]
  },
  {
   "cell_type": "markdown",
   "id": "2ecaa703-8def-48ad-9abc-5e5618b26e75",
   "metadata": {},
   "source": [
    "# Numerical Data \n",
    "## Histogram"
   ]
  },
  {
   "cell_type": "code",
   "execution_count": null,
   "id": "cbafb5cf-5ded-4d1a-82de-620fe7da849a",
   "metadata": {},
   "outputs": [],
   "source": [
    "plt.hist(df['Age'])"
   ]
  },
  {
   "cell_type": "code",
   "execution_count": null,
   "id": "5f4a548f-d079-42e5-8b09-a5451e06a940",
   "metadata": {},
   "outputs": [],
   "source": [
    "sns.displot(df['Age'], kde = True)"
   ]
  },
  {
   "cell_type": "code",
   "execution_count": null,
   "id": "d2f53336-7a41-4eb3-b412-45d74cf9f2e7",
   "metadata": {},
   "outputs": [],
   "source": [
    "sns.boxplot(df['Age'])"
   ]
  },
  {
   "cell_type": "code",
   "execution_count": null,
   "id": "dd102fd7-bddf-43dd-b724-f4fb9ea92b25",
   "metadata": {},
   "outputs": [],
   "source": [
    "df['Age'].skew()\n",
    "# finding out the skewness in the data"
   ]
  },
  {
   "cell_type": "markdown",
   "id": "75c56f1a-2b22-4332-8c73-ffd074728812",
   "metadata": {},
   "source": [
    "# EDA using Bivariate and Multivariate Analysis "
   ]
  },
  {
   "cell_type": "code",
   "execution_count": null,
   "id": "337f6bc8-315f-40e4-9b7c-c1fca1794e40",
   "metadata": {},
   "outputs": [],
   "source": [
    "tips = sns.load_dataset('tips')\n",
    "flights = sns.load_dataset('flights')\n",
    "iris = sns.load_dataset('iris')"
   ]
  },
  {
   "cell_type": "code",
   "execution_count": null,
   "id": "10a3362c-288d-47c2-900c-29f907374756",
   "metadata": {},
   "outputs": [],
   "source": [
    "tips"
   ]
  },
  {
   "cell_type": "markdown",
   "id": "92ba549a-538c-42a0-aa9e-2c30c0905656",
   "metadata": {},
   "source": [
    "# Scatter Plot (Numerical + Numerical)"
   ]
  },
  {
   "cell_type": "code",
   "execution_count": null,
   "id": "f2ae9eed-06ba-440d-9d21-0129e756aebb",
   "metadata": {},
   "outputs": [],
   "source": [
    "sns.scatterplot(x = tips['total_bill'] , y = tips['tip'] , hue = tips['sex'] ,style=tips['smoker'] , size = tips['size'])"
   ]
  },
  {
   "cell_type": "markdown",
   "id": "56fb1bd0-8e02-456f-bdfe-aabb29fd146e",
   "metadata": {},
   "source": [
    "# Bar Plot Numerical - Categorical"
   ]
  },
  {
   "cell_type": "code",
   "execution_count": null,
   "id": "027ef50e-6c6c-4267-afc9-0582d297eb67",
   "metadata": {},
   "outputs": [],
   "source": [
    "# sns.barplot(y='Age' , x='Pclass' , data = df)\n",
    "sns.barplot(y='Fare' , x='Pclass' , data = df)"
   ]
  },
  {
   "cell_type": "markdown",
   "id": "3cb967cc-ef09-48c2-bc12-b5fec704bf42",
   "metadata": {},
   "source": [
    "# Box Plot Numerical - Categorical"
   ]
  },
  {
   "cell_type": "code",
   "execution_count": null,
   "id": "a2a7fa25-ef52-4ad7-a90b-d9070361d5fc",
   "metadata": {},
   "outputs": [],
   "source": [
    "sns.boxplot(x='Age', y='Sex' , data = df)"
   ]
  },
  {
   "cell_type": "markdown",
   "id": "cd2ede53-f2e6-4e23-a1d0-39bf387882e7",
   "metadata": {},
   "source": [
    "# Dis Plot Numerical - Categorical"
   ]
  },
  {
   "cell_type": "code",
   "execution_count": null,
   "id": "9b603d08-999c-4c3e-85b2-751ee19b985c",
   "metadata": {},
   "outputs": [],
   "source": [
    "sns.displot(x = 'Age' , hue= 'Survived' , data= df , kind = 'kde')"
   ]
  },
  {
   "cell_type": "code",
   "execution_count": null,
   "id": "3e160d3a-9757-4ea9-a18b-22f54dd6e4db",
   "metadata": {},
   "outputs": [],
   "source": [
    "sns.heatmap(pd.crosstab(df['Pclass'] , df['Survived']))"
   ]
  },
  {
   "cell_type": "code",
   "execution_count": null,
   "id": "20cea9bd-8e88-493f-baf6-af247c36447c",
   "metadata": {},
   "outputs": [],
   "source": [
    "df.groupby('Pclass')[['Survived']].mean().plot(kind='bar')"
   ]
  },
  {
   "cell_type": "code",
   "execution_count": null,
   "id": "1fa2a4b9-5827-444d-8627-378c2d70f612",
   "metadata": {},
   "outputs": [],
   "source": [
    "sns.pairplot(iris)"
   ]
  }
 ],
 "metadata": {
  "kernelspec": {
   "display_name": "Python 3 (ipykernel)",
   "language": "python",
   "name": "python3"
  },
  "language_info": {
   "codemirror_mode": {
    "name": "ipython",
    "version": 3
   },
   "file_extension": ".py",
   "mimetype": "text/x-python",
   "name": "python",
   "nbconvert_exporter": "python",
   "pygments_lexer": "ipython3",
   "version": "3.13.5"
  }
 },
 "nbformat": 4,
 "nbformat_minor": 5
}
